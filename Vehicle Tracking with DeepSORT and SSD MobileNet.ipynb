{
  "nbformat": 4,
  "nbformat_minor": 0,
  "metadata": {
    "colab": {
      "provenance": []
    },
    "kernelspec": {
      "name": "python3",
      "display_name": "Python 3"
    },
    "language_info": {
      "name": "python"
    }
  },
  "cells": [
    {
      "cell_type": "code",
      "source": [
        "!pip install deep-sort-realtime"
      ],
      "metadata": {
        "colab": {
          "base_uri": "https://localhost:8080/"
        },
        "id": "hEoqpQaGnKV2",
        "outputId": "3a85668e-d638-4a03-fbcc-210cba531d8e"
      },
      "execution_count": 3,
      "outputs": [
        {
          "output_type": "stream",
          "name": "stdout",
          "text": [
            "Collecting deep-sort-realtime\n",
            "  Downloading deep_sort_realtime-1.3.2-py3-none-any.whl.metadata (12 kB)\n",
            "Requirement already satisfied: numpy in /usr/local/lib/python3.11/dist-packages (from deep-sort-realtime) (2.0.2)\n",
            "Requirement already satisfied: scipy in /usr/local/lib/python3.11/dist-packages (from deep-sort-realtime) (1.14.1)\n",
            "Requirement already satisfied: opencv-python in /usr/local/lib/python3.11/dist-packages (from deep-sort-realtime) (4.11.0.86)\n",
            "Downloading deep_sort_realtime-1.3.2-py3-none-any.whl (8.4 MB)\n",
            "\u001b[2K   \u001b[90m━━━━━━━━━━━━━━━━━━━━━━━━━━━━━━━━━━━━━━━━\u001b[0m \u001b[32m8.4/8.4 MB\u001b[0m \u001b[31m78.9 MB/s\u001b[0m eta \u001b[36m0:00:00\u001b[0m\n",
            "\u001b[?25hInstalling collected packages: deep-sort-realtime\n",
            "Successfully installed deep-sort-realtime-1.3.2\n"
          ]
        }
      ]
    },
    {
      "cell_type": "code",
      "execution_count": 4,
      "metadata": {
        "colab": {
          "base_uri": "https://localhost:8080/",
          "height": 17
        },
        "id": "Z5PC31vFm5Z-",
        "outputId": "1fd52a4b-b2f2-4a84-ef95-5e6ca4f019d6"
      },
      "outputs": [
        {
          "output_type": "display_data",
          "data": {
            "text/plain": [
              "<IPython.core.display.Javascript object>"
            ],
            "application/javascript": [
              "\n",
              "    async function download(id, filename, size) {\n",
              "      if (!google.colab.kernel.accessAllowed) {\n",
              "        return;\n",
              "      }\n",
              "      const div = document.createElement('div');\n",
              "      const label = document.createElement('label');\n",
              "      label.textContent = `Downloading \"${filename}\": `;\n",
              "      div.appendChild(label);\n",
              "      const progress = document.createElement('progress');\n",
              "      progress.max = size;\n",
              "      div.appendChild(progress);\n",
              "      document.body.appendChild(div);\n",
              "\n",
              "      const buffers = [];\n",
              "      let downloaded = 0;\n",
              "\n",
              "      const channel = await google.colab.kernel.comms.open(id);\n",
              "      // Send a message to notify the kernel that we're ready.\n",
              "      channel.send({})\n",
              "\n",
              "      for await (const message of channel.messages) {\n",
              "        // Send a message to notify the kernel that we're ready.\n",
              "        channel.send({})\n",
              "        if (message.buffers) {\n",
              "          for (const buffer of message.buffers) {\n",
              "            buffers.push(buffer);\n",
              "            downloaded += buffer.byteLength;\n",
              "            progress.value = downloaded;\n",
              "          }\n",
              "        }\n",
              "      }\n",
              "      const blob = new Blob(buffers, {type: 'application/binary'});\n",
              "      const a = document.createElement('a');\n",
              "      a.href = window.URL.createObjectURL(blob);\n",
              "      a.download = filename;\n",
              "      div.appendChild(a);\n",
              "      a.click();\n",
              "      div.remove();\n",
              "    }\n",
              "  "
            ]
          },
          "metadata": {}
        },
        {
          "output_type": "display_data",
          "data": {
            "text/plain": [
              "<IPython.core.display.Javascript object>"
            ],
            "application/javascript": [
              "download(\"download_a19cceda-d06e-448f-8a5e-3a820db88dde\", \"output_deepsort.mp4\", 6415302)"
            ]
          },
          "metadata": {}
        }
      ],
      "source": [
        "import cv2\n",
        "import numpy as np\n",
        "from deep_sort_realtime.deepsort_tracker import DeepSort\n",
        "from google.colab import files\n",
        "\n",
        "# Load SSD MobileNet\n",
        "net = cv2.dnn.readNetFromCaffe(\n",
        "    '/content/MobileNetSSD_deploy.prototxt',\n",
        "    '/content/MobileNetSSD_deploy.caffemodel'\n",
        ")\n",
        "\n",
        "# Class labels\n",
        "CLASSES = [\"background\", \"aeroplane\", \"bicycle\", \"bird\", \"boat\",\n",
        "           \"bottle\", \"bus\", \"car\", \"cat\", \"chair\", \"cow\", \"diningtable\",\n",
        "           \"dog\", \"horse\", \"motorbike\", \"person\", \"pottedplant\", \"sheep\",\n",
        "           \"sofa\", \"train\", \"tvmonitor\"]\n",
        "VEHICLE_CLASSES = {\"car\"}\n",
        "\n",
        "# Initialize Deep SORT\n",
        "tracker = DeepSort(max_age=10, n_init=3, nms_max_overlap=1.0)\n",
        "\n",
        "# Load video\n",
        "cap = cv2.VideoCapture('videoplayback.mp4')\n",
        "frame_width = int(cap.get(cv2.CAP_PROP_FRAME_WIDTH))\n",
        "frame_height = int(cap.get(cv2.CAP_PROP_FRAME_HEIGHT))\n",
        "fps = cap.get(cv2.CAP_PROP_FPS)\n",
        "\n",
        "out = cv2.VideoWriter('output_deepsort.mp4', cv2.VideoWriter_fourcc(*'mp4v'), fps, (frame_width, frame_height))\n",
        "\n",
        "id_mapping = {}\n",
        "next_compact_id = 0\n",
        "total_vehicles = set()\n",
        "\n",
        "CONFIDENCE_THRESHOLD = 0.20  # lowered to catch more vehicles\n",
        "MIN_BOX_AREA = 300  # slightly reduced for smaller/far vehicles\n",
        "\n",
        "while cap.isOpened():\n",
        "    ret, frame = cap.read()\n",
        "    if not ret:\n",
        "        break\n",
        "\n",
        "    h, w = frame.shape[:2]\n",
        "\n",
        "    # Optional upscale for better detection\n",
        "    upscale_factor = 1.2\n",
        "    resized_frame = cv2.resize(frame, None, fx=upscale_factor, fy=upscale_factor)\n",
        "    rh, rw = resized_frame.shape[:2]\n",
        "\n",
        "    blob = cv2.dnn.blobFromImage(resized_frame, 0.007843, (300, 300), 127.5)\n",
        "    net.setInput(blob)\n",
        "    detections = net.forward()\n",
        "\n",
        "    dets_for_sort = []\n",
        "\n",
        "    for i in range(detections.shape[2]):\n",
        "        confidence = detections[0, 0, i, 2]\n",
        "        if confidence > CONFIDENCE_THRESHOLD:\n",
        "            idx = int(detections[0, 0, i, 1])\n",
        "            class_name = CLASSES[idx]\n",
        "            if class_name in VEHICLE_CLASSES:\n",
        "                box = detections[0, 0, i, 3:7] * np.array([rw, rh, rw, rh])\n",
        "                x1, y1, x2, y2 = box.astype(int)\n",
        "\n",
        "                # Downscale box back to original frame size\n",
        "                x1 = int(x1 / upscale_factor)\n",
        "                y1 = int(y1 / upscale_factor)\n",
        "                x2 = int(x2 / upscale_factor)\n",
        "                y2 = int(y2 / upscale_factor)\n",
        "\n",
        "                if (x2 - x1) * (y2 - y1) < MIN_BOX_AREA:\n",
        "                    continue\n",
        "\n",
        "                dets_for_sort.append(([x1, y1, x2 - x1, y2 - y1], confidence, class_name))\n",
        "\n",
        "    # Optional: You could do cv2.dnn.NMSBoxes here if needed\n",
        "\n",
        "    tracks = tracker.update_tracks(dets_for_sort, frame=frame)\n",
        "\n",
        "    for track in tracks:\n",
        "        if not track.is_confirmed():\n",
        "            continue\n",
        "\n",
        "        track_id = track.track_id\n",
        "        if track_id not in id_mapping:\n",
        "            id_mapping[track_id] = next_compact_id\n",
        "            next_compact_id += 1\n",
        "\n",
        "        compact_id = id_mapping[track_id]\n",
        "        total_vehicles.add(compact_id)\n",
        "\n",
        "        x1, y1, x2, y2 = map(int, track.to_ltrb())\n",
        "\n",
        "        cv2.rectangle(frame, (x1, y1), (x2, y2), (0, 255, 0), 2)\n",
        "        cv2.putText(frame, f\"ID: {compact_id}\", (x1, y1 - 10),\n",
        "                    cv2.FONT_HERSHEY_SIMPLEX, 0.6, (255, 255, 0), 2)\n",
        "\n",
        "    cv2.putText(frame, f\"Total Vehicles: {len(total_vehicles)}\", (20, 30),\n",
        "                cv2.FONT_HERSHEY_SIMPLEX, 1, (0, 0, 255), 2)\n",
        "\n",
        "    out.write(frame)\n",
        "\n",
        "cap.release()\n",
        "out.release()\n",
        "files.download('output_deepsort.mp4')"
      ]
    }
  ]
}